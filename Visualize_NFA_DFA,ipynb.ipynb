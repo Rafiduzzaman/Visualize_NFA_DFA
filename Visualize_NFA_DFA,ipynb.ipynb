{
  "nbformat": 4,
  "nbformat_minor": 0,
  "metadata": {
    "colab": {
      "provenance": []
    },
    "kernelspec": {
      "name": "python3",
      "display_name": "Python 3"
    },
    "language_info": {
      "name": "python"
    }
  },
  "cells": [
    {
      "cell_type": "code",
      "source": [
        "# First, we need to install the graphviz package\n",
        "!apt-get install graphviz\n",
        "!pip install graphviz\n",
        "\n",
        "import graphviz\n"
      ],
      "metadata": {
        "colab": {
          "base_uri": "https://localhost:8080/"
        },
        "id": "PddpF2wgYqUo",
        "outputId": "fbf9cf6c-9f60-42ad-8d54-78b4d034d904"
      },
      "execution_count": 43,
      "outputs": [
        {
          "output_type": "stream",
          "name": "stdout",
          "text": [
            "Reading package lists... Done\n",
            "Building dependency tree... Done\n",
            "Reading state information... Done\n",
            "graphviz is already the newest version (2.42.2-6ubuntu0.1).\n",
            "0 upgraded, 0 newly installed, 0 to remove and 49 not upgraded.\n",
            "Requirement already satisfied: graphviz in /usr/local/lib/python3.10/dist-packages (0.20.3)\n"
          ]
        }
      ]
    },
    {
      "cell_type": "code",
      "source": [
        "\n",
        "# NFA Definition\n",
        "nfa_dot = '''\n",
        "digraph NFA {\n",
        "    rankdir=LR;\n",
        "    q0 [shape=circle, label=\"q0 (Start)\"];\n",
        "    q1 [shape=circle, label=\"q1 (Digits)\"]; // Final state\n",
        "    q2 [shape=circle, label=\"q2 (Decimal Point)\"];\n",
        "    q3 [shape=doublecircle, label=\"q3 (Fractional Part)\"];\n",
        "    q4 [shape=circle, label=\"q4 (Exponent)\"];\n",
        "    q5 [shape=circle, label=\"q5 (Exponent Sign)\"];\n",
        "    q6 [shape=doublecircle, label=\"q6 (Exponent Digits)\"]; // Final state\n",
        "\n",
        "    // Transitions\n",
        "    q0 -> q1 [label=\"+ or -\"];\n",
        "    q0 -> q1 [label=\"ϵ\"];\n",
        "    q0 -> q1 [label=\"0-9\"];\n",
        "    q1 -> q1 [label=\"0-9\"];\n",
        "    q1 -> q2 [label=\".\"]; // Move to decimal point\n",
        "    q2 -> q3 [label=\"0-9\"]; // Move to fractional part\n",
        "    q3 -> q3 [label=\"0-9\"]; // Continue in fractional part\n",
        "    q3 -> q4 [label=\"e or E\"]; // Move to exponent\n",
        "    q4 -> q5 [label=\"+ or -\"]; // Exponent sign\n",
        "    q4 -> q6 [label=\"0-9\"]; // Move to exponent digits\n",
        "    q5 -> q6 [label=\"0-9\"]; // Continue exponent digits\n",
        "    q6 -> q6 [label=\"0-9\"]; // Continue in exponent digits\n",
        "}\n",
        "'''\n",
        "\n",
        "dfa_dot = '''\n",
        "digraph DFA {\n",
        "    rankdir=LR;\n",
        "    q0 [shape=circle, label=\"q0 (Start)\"];\n",
        "    q1 [shape=circle, label=\"q1 (Optional Sign)\"];\n",
        "    q2 [shape=doublecircle, label=\"q2 (Integer)\"]; // Final state\n",
        "    q3 [shape=circle, label=\"q3 (Decimal Point)\"];\n",
        "    q4 [shape=doublecircle, label=\"q4 (Fractional Part)\"]; // Final state\n",
        "    q5 [shape=circle, label=\"q5 (Exponent)\"];\n",
        "    q6 [shape=circle, label=\"q6 (Exponent Sign)\"];\n",
        "    q7 [shape=circle, label=\"q7 (Exponent Digits)\"];\n",
        "    q8 [shape=doublecircle, label=\"q8 (Final Integer State)\"]; // Final state without exponent\n",
        "\n",
        "    // Transitions\n",
        "    q0 -> q1 [label=\"+ or -\"];\n",
        "    q0 -> q2 [label=\"0-9\"];\n",
        "    q1 -> q2 [label=\"0-9\"];\n",
        "    q2 -> q2 [label=\"0-9\"];\n",
        "    q2 -> q3 [label=\".\"]; // Move to decimal point\n",
        "    q3 -> q4 [label=\"0-9\"]; // Move to fractional part\n",
        "    q4 -> q4 [label=\"0-9\"]; // Continue in fractional part\n",
        "    q4 -> q5 [label=\"e or E\"]; // Move to exponent\n",
        "    q5 -> q6 [label=\"+ or -\"]; // Exponent sign\n",
        "    q6 -> q7 [label=\"0-9\"]; // Exponent digits\n",
        "    q7 -> q8 [label=\"0-9\"]; // Continue in exponent digits\n",
        "    q8 -> q8 [label=\"0-9\"];\n",
        "}\n",
        "'''\n",
        "\n",
        "# Create NFA and DFA images\n",
        "nfa_graph = graphviz.Source(nfa_dot)\n",
        "dfa_graph = graphviz.Source(dfa_dot)\n",
        "\n",
        "# Render the NFA and DFA\n",
        "nfa_graph.render(\"NFA\", format='png', cleanup=True)\n",
        "dfa_graph.render(\"DFA\", format='png', cleanup=True)\n",
        "\n",
        "\n"
      ],
      "metadata": {
        "colab": {
          "base_uri": "https://localhost:8080/",
          "height": 35
        },
        "id": "wtM4p34AYoz7",
        "outputId": "0fa35fee-545a-434f-98b0-2d26462e89c6"
      },
      "execution_count": 75,
      "outputs": [
        {
          "output_type": "execute_result",
          "data": {
            "text/plain": [
              "'DFA.png'"
            ],
            "application/vnd.google.colaboratory.intrinsic+json": {
              "type": "string"
            }
          },
          "metadata": {},
          "execution_count": 75
        }
      ]
    },
    {
      "cell_type": "code",
      "source": [
        "# Display the images\n",
        "nfa_graph\n"
      ],
      "metadata": {
        "colab": {
          "base_uri": "https://localhost:8080/",
          "height": 387
        },
        "id": "7hcNi0EKYsLl",
        "outputId": "002418b8-4a39-4c44-8ebf-c949272ac77f"
      },
      "execution_count": 70,
      "outputs": [
        {
          "output_type": "execute_result",
          "data": {
            "image/svg+xml": "<?xml version=\"1.0\" encoding=\"UTF-8\" standalone=\"no\"?>\n<!DOCTYPE svg PUBLIC \"-//W3C//DTD SVG 1.1//EN\"\n \"http://www.w3.org/Graphics/SVG/1.1/DTD/svg11.dtd\">\n<!-- Generated by graphviz version 2.43.0 (0)\n -->\n<!-- Title: NFA Pages: 1 -->\n<svg width=\"1339pt\" height=\"274pt\"\n viewBox=\"0.00 0.00 1339.31 274.09\" xmlns=\"http://www.w3.org/2000/svg\" xmlns:xlink=\"http://www.w3.org/1999/xlink\">\n<g id=\"graph0\" class=\"graph\" transform=\"scale(1 1) rotate(0) translate(4 270.09)\">\n<title>NFA</title>\n<polygon fill=\"white\" stroke=\"transparent\" points=\"-4,4 -4,-270.09 1335.31,-270.09 1335.31,4 -4,4\"/>\n<!-- q0 -->\n<g id=\"node1\" class=\"node\">\n<title>q0</title>\n<ellipse fill=\"none\" stroke=\"black\" cx=\"44.2\" cy=\"-89.14\" rx=\"44.39\" ry=\"44.39\"/>\n<text text-anchor=\"middle\" x=\"44.2\" y=\"-85.44\" font-family=\"Times,serif\" font-size=\"14.00\">q0 (Start)</text>\n</g>\n<!-- q1 -->\n<g id=\"node2\" class=\"node\">\n<title>q1</title>\n<ellipse fill=\"none\" stroke=\"black\" cx=\"205.79\" cy=\"-89.14\" rx=\"49.29\" ry=\"49.29\"/>\n<text text-anchor=\"middle\" x=\"205.79\" y=\"-85.44\" font-family=\"Times,serif\" font-size=\"14.00\">q1 (Digits)</text>\n</g>\n<!-- q0&#45;&gt;q1 -->\n<g id=\"edge1\" class=\"edge\">\n<title>q0&#45;&gt;q1</title>\n<path fill=\"none\" stroke=\"black\" d=\"M86.72,-101.52C93.25,-103.02 99.97,-104.32 106.39,-105.14 119.8,-106.87 134.18,-106.05 147.7,-104.08\"/>\n<polygon fill=\"black\" stroke=\"black\" points=\"148.55,-107.49 157.83,-102.37 147.39,-100.58 148.55,-107.49\"/>\n<text text-anchor=\"middle\" x=\"122.39\" y=\"-108.94\" font-family=\"Times,serif\" font-size=\"14.00\">+ or &#45;</text>\n</g>\n<!-- q0&#45;&gt;q1 -->\n<g id=\"edge2\" class=\"edge\">\n<title>q0&#45;&gt;q1</title>\n<path fill=\"none\" stroke=\"black\" d=\"M88.65,-86.75C94.61,-86.5 100.65,-86.28 106.39,-86.14 119.2,-85.83 132.94,-85.96 145.98,-86.29\"/>\n<polygon fill=\"black\" stroke=\"black\" points=\"146.14,-89.8 156.25,-86.6 146.36,-82.8 146.14,-89.8\"/>\n<text text-anchor=\"middle\" x=\"122.39\" y=\"-89.94\" font-family=\"Times,serif\" font-size=\"14.00\">ϵ</text>\n</g>\n<!-- q0&#45;&gt;q1 -->\n<g id=\"edge3\" class=\"edge\">\n<title>q0&#45;&gt;q1</title>\n<path fill=\"none\" stroke=\"black\" d=\"M85.1,-71.82C92.08,-69.46 99.36,-67.42 106.39,-66.14 120.56,-63.57 135.76,-65.01 149.87,-68.15\"/>\n<polygon fill=\"black\" stroke=\"black\" points=\"149.36,-71.64 159.92,-70.71 151.09,-64.85 149.36,-71.64\"/>\n<text text-anchor=\"middle\" x=\"122.39\" y=\"-69.94\" font-family=\"Times,serif\" font-size=\"14.00\">0&#45;9</text>\n</g>\n<!-- q1&#45;&gt;q1 -->\n<g id=\"edge4\" class=\"edge\">\n<title>q1&#45;&gt;q1</title>\n<path fill=\"none\" stroke=\"black\" d=\"M193.29,-137C194.32,-148.24 198.48,-156.54 205.79,-156.54 210.7,-156.54 214.19,-152.79 216.26,-146.93\"/>\n<polygon fill=\"black\" stroke=\"black\" points=\"219.72,-147.5 218.29,-137 212.86,-146.1 219.72,-147.5\"/>\n<text text-anchor=\"middle\" x=\"205.79\" y=\"-160.34\" font-family=\"Times,serif\" font-size=\"14.00\">0&#45;9</text>\n</g>\n<!-- q2 -->\n<g id=\"node3\" class=\"node\">\n<title>q2</title>\n<ellipse fill=\"none\" stroke=\"black\" cx=\"374.48\" cy=\"-89.14\" rx=\"79.09\" ry=\"79.09\"/>\n<text text-anchor=\"middle\" x=\"374.48\" y=\"-85.44\" font-family=\"Times,serif\" font-size=\"14.00\">q2 (Decimal Point)</text>\n</g>\n<!-- q1&#45;&gt;q2 -->\n<g id=\"edge5\" class=\"edge\">\n<title>q1&#45;&gt;q2</title>\n<path fill=\"none\" stroke=\"black\" d=\"M255.45,-89.14C264.75,-89.14 274.74,-89.14 284.85,-89.14\"/>\n<polygon fill=\"black\" stroke=\"black\" points=\"284.96,-92.64 294.96,-89.14 284.96,-85.64 284.96,-92.64\"/>\n<text text-anchor=\"middle\" x=\"275.18\" y=\"-92.94\" font-family=\"Times,serif\" font-size=\"14.00\">.</text>\n</g>\n<!-- q3 -->\n<g id=\"node4\" class=\"node\">\n<title>q3</title>\n<ellipse fill=\"none\" stroke=\"black\" cx=\"592.71\" cy=\"-89.14\" rx=\"79.89\" ry=\"79.89\"/>\n<ellipse fill=\"none\" stroke=\"black\" cx=\"592.71\" cy=\"-89.14\" rx=\"83.89\" ry=\"83.89\"/>\n<text text-anchor=\"middle\" x=\"592.71\" y=\"-85.44\" font-family=\"Times,serif\" font-size=\"14.00\">q3 (Fractional Part)</text>\n</g>\n<!-- q2&#45;&gt;q3 -->\n<g id=\"edge6\" class=\"edge\">\n<title>q2&#45;&gt;q3</title>\n<path fill=\"none\" stroke=\"black\" d=\"M453.85,-89.14C468.28,-89.14 483.49,-89.14 498.31,-89.14\"/>\n<polygon fill=\"black\" stroke=\"black\" points=\"498.5,-92.64 508.5,-89.14 498.5,-85.64 498.5,-92.64\"/>\n<text text-anchor=\"middle\" x=\"481.27\" y=\"-92.94\" font-family=\"Times,serif\" font-size=\"14.00\">0&#45;9</text>\n</g>\n<!-- q3&#45;&gt;q3 -->\n<g id=\"edge7\" class=\"edge\">\n<title>q3&#45;&gt;q3</title>\n<path fill=\"none\" stroke=\"black\" d=\"M574.1,-171.13C577.06,-183.05 583.26,-191.09 592.71,-191.09 599.36,-191.09 604.4,-187.12 607.83,-180.61\"/>\n<polygon fill=\"black\" stroke=\"black\" points=\"611.15,-181.73 611.32,-171.13 604.58,-179.31 611.15,-181.73\"/>\n<text text-anchor=\"middle\" x=\"592.71\" y=\"-194.89\" font-family=\"Times,serif\" font-size=\"14.00\">0&#45;9</text>\n</g>\n<!-- q4 -->\n<g id=\"node5\" class=\"node\">\n<title>q4</title>\n<ellipse fill=\"none\" stroke=\"black\" cx=\"808.4\" cy=\"-89.14\" rx=\"61.99\" ry=\"61.99\"/>\n<text text-anchor=\"middle\" x=\"808.4\" y=\"-85.44\" font-family=\"Times,serif\" font-size=\"14.00\">q4 (Exponent)</text>\n</g>\n<!-- q3&#45;&gt;q4 -->\n<g id=\"edge8\" class=\"edge\">\n<title>q3&#45;&gt;q4</title>\n<path fill=\"none\" stroke=\"black\" d=\"M676.94,-89.14C696.61,-89.14 717.4,-89.14 736.47,-89.14\"/>\n<polygon fill=\"black\" stroke=\"black\" points=\"736.56,-92.64 746.56,-89.14 736.56,-85.64 736.56,-92.64\"/>\n<text text-anchor=\"middle\" x=\"711.66\" y=\"-92.94\" font-family=\"Times,serif\" font-size=\"14.00\">e or E</text>\n</g>\n<!-- q5 -->\n<g id=\"node6\" class=\"node\">\n<title>q5</title>\n<ellipse fill=\"none\" stroke=\"black\" cx=\"1018.09\" cy=\"-186.14\" rx=\"79.89\" ry=\"79.89\"/>\n<text text-anchor=\"middle\" x=\"1018.09\" y=\"-182.44\" font-family=\"Times,serif\" font-size=\"14.00\">q5 (Exponent Sign)</text>\n</g>\n<!-- q4&#45;&gt;q5 -->\n<g id=\"edge9\" class=\"edge\">\n<title>q4&#45;&gt;q5</title>\n<path fill=\"none\" stroke=\"black\" d=\"M864.78,-115.01C886.73,-125.26 912.41,-137.25 936.35,-148.44\"/>\n<polygon fill=\"black\" stroke=\"black\" points=\"934.89,-151.62 945.43,-152.68 937.86,-145.27 934.89,-151.62\"/>\n<text text-anchor=\"middle\" x=\"904.14\" y=\"-143.94\" font-family=\"Times,serif\" font-size=\"14.00\">+ or &#45;</text>\n</g>\n<!-- q6 -->\n<g id=\"node7\" class=\"node\">\n<title>q6</title>\n<ellipse fill=\"none\" stroke=\"black\" cx=\"1242.17\" cy=\"-89.14\" rx=\"85.28\" ry=\"85.28\"/>\n<ellipse fill=\"none\" stroke=\"black\" cx=\"1242.17\" cy=\"-89.14\" rx=\"89.29\" ry=\"89.29\"/>\n<text text-anchor=\"middle\" x=\"1242.17\" y=\"-85.44\" font-family=\"Times,serif\" font-size=\"14.00\">q6 (Exponent Digits)</text>\n</g>\n<!-- q4&#45;&gt;q6 -->\n<g id=\"edge10\" class=\"edge\">\n<title>q4&#45;&gt;q6</title>\n<path fill=\"none\" stroke=\"black\" d=\"M870.28,-85.15C891.72,-83.93 915.99,-82.74 938.14,-82.14 1009.18,-80.21 1026.99,-80.41 1098.03,-82.14 1112.48,-82.5 1127.74,-83.05 1142.71,-83.69\"/>\n<polygon fill=\"black\" stroke=\"black\" points=\"1142.86,-87.2 1153,-84.15 1143.17,-80.21 1142.86,-87.2\"/>\n<text text-anchor=\"middle\" x=\"1018.09\" y=\"-85.94\" font-family=\"Times,serif\" font-size=\"14.00\">0&#45;9</text>\n</g>\n<!-- q5&#45;&gt;q6 -->\n<g id=\"edge11\" class=\"edge\">\n<title>q5&#45;&gt;q6</title>\n<path fill=\"none\" stroke=\"black\" d=\"M1091.81,-154.38C1110.7,-146.13 1131.28,-137.14 1150.95,-128.55\"/>\n<polygon fill=\"black\" stroke=\"black\" points=\"1152.46,-131.71 1160.22,-124.5 1149.66,-125.29 1152.46,-131.71\"/>\n<text text-anchor=\"middle\" x=\"1125.53\" y=\"-146.94\" font-family=\"Times,serif\" font-size=\"14.00\">0&#45;9</text>\n</g>\n<!-- q6&#45;&gt;q6 -->\n<g id=\"edge12\" class=\"edge\">\n<title>q6&#45;&gt;q6</title>\n<path fill=\"none\" stroke=\"black\" d=\"M1222.76,-176.16C1225.96,-188.22 1232.43,-196.28 1242.17,-196.28 1249.02,-196.28 1254.25,-192.3 1257.87,-185.74\"/>\n<polygon fill=\"black\" stroke=\"black\" points=\"1261.23,-186.75 1261.58,-176.16 1254.7,-184.22 1261.23,-186.75\"/>\n<text text-anchor=\"middle\" x=\"1242.17\" y=\"-200.08\" font-family=\"Times,serif\" font-size=\"14.00\">0&#45;9</text>\n</g>\n</g>\n</svg>\n",
            "text/plain": [
              "<graphviz.sources.Source at 0x78c31ee16c50>"
            ]
          },
          "metadata": {},
          "execution_count": 70
        }
      ]
    },
    {
      "cell_type": "code",
      "source": [
        "dfa_graph"
      ],
      "metadata": {
        "colab": {
          "base_uri": "https://localhost:8080/",
          "height": 409
        },
        "id": "FFNcg2A3Ys_P",
        "outputId": "e293e898-b464-48c4-a66e-272338a20946"
      },
      "execution_count": 76,
      "outputs": [
        {
          "output_type": "execute_result",
          "data": {
            "image/svg+xml": "<?xml version=\"1.0\" encoding=\"UTF-8\" standalone=\"no\"?>\n<!DOCTYPE svg PUBLIC \"-//W3C//DTD SVG 1.1//EN\"\n \"http://www.w3.org/Graphics/SVG/1.1/DTD/svg11.dtd\">\n<!-- Generated by graphviz version 2.43.0 (0)\n -->\n<!-- Title: DFA Pages: 1 -->\n<svg width=\"1804pt\" height=\"276pt\"\n viewBox=\"0.00 0.00 1804.38 276.28\" xmlns=\"http://www.w3.org/2000/svg\" xmlns:xlink=\"http://www.w3.org/1999/xlink\">\n<g id=\"graph0\" class=\"graph\" transform=\"scale(1 1) rotate(0) translate(4 272.28)\">\n<title>DFA</title>\n<polygon fill=\"white\" stroke=\"transparent\" points=\"-4,4 -4,-272.28 1800.38,-272.28 1800.38,4 -4,4\"/>\n<!-- q0 -->\n<g id=\"node1\" class=\"node\">\n<title>q0</title>\n<ellipse fill=\"none\" stroke=\"black\" cx=\"44.2\" cy=\"-96.94\" rx=\"44.39\" ry=\"44.39\"/>\n<text text-anchor=\"middle\" x=\"44.2\" y=\"-93.24\" font-family=\"Times,serif\" font-size=\"14.00\">q0 (Start)</text>\n</g>\n<!-- q1 -->\n<g id=\"node2\" class=\"node\">\n<title>q1</title>\n<ellipse fill=\"none\" stroke=\"black\" cx=\"233.74\" cy=\"-190.94\" rx=\"77.19\" ry=\"77.19\"/>\n<text text-anchor=\"middle\" x=\"233.74\" y=\"-187.24\" font-family=\"Times,serif\" font-size=\"14.00\">q1 (Optional Sign)</text>\n</g>\n<!-- q0&#45;&gt;q1 -->\n<g id=\"edge1\" class=\"edge\">\n<title>q0&#45;&gt;q1</title>\n<path fill=\"none\" stroke=\"black\" d=\"M84.05,-116.42C104.69,-126.76 130.81,-139.86 155.38,-152.17\"/>\n<polygon fill=\"black\" stroke=\"black\" points=\"153.84,-155.31 164.35,-156.66 156.98,-149.05 153.84,-155.31\"/>\n<text text-anchor=\"middle\" x=\"122.39\" y=\"-144.74\" font-family=\"Times,serif\" font-size=\"14.00\">+ or &#45;</text>\n</g>\n<!-- q2 -->\n<g id=\"node3\" class=\"node\">\n<title>q2</title>\n<ellipse fill=\"none\" stroke=\"black\" cx=\"422.72\" cy=\"-96.94\" rx=\"52.78\" ry=\"52.78\"/>\n<ellipse fill=\"none\" stroke=\"black\" cx=\"422.72\" cy=\"-96.94\" rx=\"56.79\" ry=\"56.79\"/>\n<text text-anchor=\"middle\" x=\"422.72\" y=\"-93.24\" font-family=\"Times,serif\" font-size=\"14.00\">q2 (Integer)</text>\n</g>\n<!-- q0&#45;&gt;q2 -->\n<g id=\"edge2\" class=\"edge\">\n<title>q0&#45;&gt;q2</title>\n<path fill=\"none\" stroke=\"black\" d=\"M88.47,-93.58C109.03,-92.15 133.97,-90.65 156.39,-89.94 225.11,-87.78 242.36,-87.77 311.08,-89.94 325.62,-90.4 341.21,-91.2 355.97,-92.1\"/>\n<polygon fill=\"black\" stroke=\"black\" points=\"355.84,-95.59 366.04,-92.73 356.28,-88.61 355.84,-95.59\"/>\n<text text-anchor=\"middle\" x=\"233.74\" y=\"-93.74\" font-family=\"Times,serif\" font-size=\"14.00\">0&#45;9</text>\n</g>\n<!-- q1&#45;&gt;q2 -->\n<g id=\"edge3\" class=\"edge\">\n<title>q1&#45;&gt;q2</title>\n<path fill=\"none\" stroke=\"black\" d=\"M303.3,-156.47C322.83,-146.66 343.92,-136.05 362.82,-126.55\"/>\n<polygon fill=\"black\" stroke=\"black\" points=\"364.54,-129.61 371.9,-121.99 361.4,-123.35 364.54,-129.61\"/>\n<text text-anchor=\"middle\" x=\"338.58\" y=\"-144.74\" font-family=\"Times,serif\" font-size=\"14.00\">0&#45;9</text>\n</g>\n<!-- q2&#45;&gt;q2 -->\n<g id=\"edge4\" class=\"edge\">\n<title>q2&#45;&gt;q2</title>\n<path fill=\"none\" stroke=\"black\" d=\"M408.97,-151.95C410.42,-163.37 415.01,-171.59 422.72,-171.59 427.91,-171.59 431.68,-167.88 434.04,-161.98\"/>\n<polygon fill=\"black\" stroke=\"black\" points=\"437.51,-162.5 436.47,-151.95 430.71,-160.84 437.51,-162.5\"/>\n<text text-anchor=\"middle\" x=\"422.72\" y=\"-175.39\" font-family=\"Times,serif\" font-size=\"14.00\">0&#45;9</text>\n</g>\n<!-- q3 -->\n<g id=\"node4\" class=\"node\">\n<title>q3</title>\n<ellipse fill=\"none\" stroke=\"black\" cx=\"598.66\" cy=\"-96.94\" rx=\"79.09\" ry=\"79.09\"/>\n<text text-anchor=\"middle\" x=\"598.66\" y=\"-93.24\" font-family=\"Times,serif\" font-size=\"14.00\">q3 (Decimal Point)</text>\n</g>\n<!-- q2&#45;&gt;q3 -->\n<g id=\"edge5\" class=\"edge\">\n<title>q2&#45;&gt;q3</title>\n<path fill=\"none\" stroke=\"black\" d=\"M479.72,-96.94C489.18,-96.94 499.2,-96.94 509.25,-96.94\"/>\n<polygon fill=\"black\" stroke=\"black\" points=\"509.28,-100.44 519.28,-96.94 509.28,-93.44 509.28,-100.44\"/>\n<text text-anchor=\"middle\" x=\"499.37\" y=\"-100.74\" font-family=\"Times,serif\" font-size=\"14.00\">.</text>\n</g>\n<!-- q4 -->\n<g id=\"node5\" class=\"node\">\n<title>q4</title>\n<ellipse fill=\"none\" stroke=\"black\" cx=\"816.9\" cy=\"-96.94\" rx=\"79.89\" ry=\"79.89\"/>\n<ellipse fill=\"none\" stroke=\"black\" cx=\"816.9\" cy=\"-96.94\" rx=\"83.89\" ry=\"83.89\"/>\n<text text-anchor=\"middle\" x=\"816.9\" y=\"-93.24\" font-family=\"Times,serif\" font-size=\"14.00\">q4 (Fractional Part)</text>\n</g>\n<!-- q3&#45;&gt;q4 -->\n<g id=\"edge6\" class=\"edge\">\n<title>q3&#45;&gt;q4</title>\n<path fill=\"none\" stroke=\"black\" d=\"M678.03,-96.94C692.47,-96.94 707.67,-96.94 722.5,-96.94\"/>\n<polygon fill=\"black\" stroke=\"black\" points=\"722.69,-100.44 732.69,-96.94 722.69,-93.44 722.69,-100.44\"/>\n<text text-anchor=\"middle\" x=\"705.46\" y=\"-100.74\" font-family=\"Times,serif\" font-size=\"14.00\">0&#45;9</text>\n</g>\n<!-- q4&#45;&gt;q4 -->\n<g id=\"edge7\" class=\"edge\">\n<title>q4&#45;&gt;q4</title>\n<path fill=\"none\" stroke=\"black\" d=\"M798.29,-178.93C801.24,-190.85 807.44,-198.88 816.9,-198.88 823.54,-198.88 828.58,-194.91 832.02,-188.41\"/>\n<polygon fill=\"black\" stroke=\"black\" points=\"835.34,-189.53 835.51,-178.93 828.77,-187.11 835.34,-189.53\"/>\n<text text-anchor=\"middle\" x=\"816.9\" y=\"-202.68\" font-family=\"Times,serif\" font-size=\"14.00\">0&#45;9</text>\n</g>\n<!-- q5 -->\n<g id=\"node6\" class=\"node\">\n<title>q5</title>\n<ellipse fill=\"none\" stroke=\"black\" cx=\"1032.59\" cy=\"-96.94\" rx=\"61.99\" ry=\"61.99\"/>\n<text text-anchor=\"middle\" x=\"1032.59\" y=\"-93.24\" font-family=\"Times,serif\" font-size=\"14.00\">q5 (Exponent)</text>\n</g>\n<!-- q4&#45;&gt;q5 -->\n<g id=\"edge8\" class=\"edge\">\n<title>q4&#45;&gt;q5</title>\n<path fill=\"none\" stroke=\"black\" d=\"M901.13,-96.94C920.8,-96.94 941.59,-96.94 960.65,-96.94\"/>\n<polygon fill=\"black\" stroke=\"black\" points=\"960.75,-100.44 970.75,-96.94 960.75,-93.44 960.75,-100.44\"/>\n<text text-anchor=\"middle\" x=\"935.84\" y=\"-100.74\" font-family=\"Times,serif\" font-size=\"14.00\">e or E</text>\n</g>\n<!-- q6 -->\n<g id=\"node7\" class=\"node\">\n<title>q6</title>\n<ellipse fill=\"none\" stroke=\"black\" cx=\"1242.27\" cy=\"-96.94\" rx=\"79.89\" ry=\"79.89\"/>\n<text text-anchor=\"middle\" x=\"1242.27\" y=\"-93.24\" font-family=\"Times,serif\" font-size=\"14.00\">q6 (Exponent Sign)</text>\n</g>\n<!-- q5&#45;&gt;q6 -->\n<g id=\"edge9\" class=\"edge\">\n<title>q5&#45;&gt;q6</title>\n<path fill=\"none\" stroke=\"black\" d=\"M1094.5,-96.94C1112.54,-96.94 1132.68,-96.94 1152.11,-96.94\"/>\n<polygon fill=\"black\" stroke=\"black\" points=\"1152.2,-100.44 1162.2,-96.94 1152.2,-93.44 1152.2,-100.44\"/>\n<text text-anchor=\"middle\" x=\"1128.33\" y=\"-100.74\" font-family=\"Times,serif\" font-size=\"14.00\">+ or &#45;</text>\n</g>\n<!-- q7 -->\n<g id=\"node8\" class=\"node\">\n<title>q7</title>\n<ellipse fill=\"none\" stroke=\"black\" cx=\"1462.36\" cy=\"-96.94\" rx=\"85.29\" ry=\"85.29\"/>\n<text text-anchor=\"middle\" x=\"1462.36\" y=\"-93.24\" font-family=\"Times,serif\" font-size=\"14.00\">q7 (Exponent Digits)</text>\n</g>\n<!-- q6&#45;&gt;q7 -->\n<g id=\"edge10\" class=\"edge\">\n<title>q6&#45;&gt;q7</title>\n<path fill=\"none\" stroke=\"black\" d=\"M1322.31,-96.94C1336.78,-96.94 1352,-96.94 1366.86,-96.94\"/>\n<polygon fill=\"black\" stroke=\"black\" points=\"1367.07,-100.44 1377.07,-96.94 1367.07,-93.44 1367.07,-100.44\"/>\n<text text-anchor=\"middle\" x=\"1349.72\" y=\"-100.74\" font-family=\"Times,serif\" font-size=\"14.00\">0&#45;9</text>\n</g>\n<!-- q8 -->\n<g id=\"node9\" class=\"node\">\n<title>q8</title>\n<ellipse fill=\"none\" stroke=\"black\" cx=\"1699.44\" cy=\"-96.94\" rx=\"92.89\" ry=\"92.89\"/>\n<ellipse fill=\"none\" stroke=\"black\" cx=\"1699.44\" cy=\"-96.94\" rx=\"96.88\" ry=\"96.88\"/>\n<text text-anchor=\"middle\" x=\"1699.44\" y=\"-93.24\" font-family=\"Times,serif\" font-size=\"14.00\">q8 (Final Integer State)</text>\n</g>\n<!-- q7&#45;&gt;q8 -->\n<g id=\"edge11\" class=\"edge\">\n<title>q7&#45;&gt;q8</title>\n<path fill=\"none\" stroke=\"black\" d=\"M1547.56,-96.94C1562.02,-96.94 1577.2,-96.94 1592.14,-96.94\"/>\n<polygon fill=\"black\" stroke=\"black\" points=\"1592.43,-100.44 1602.43,-96.94 1592.43,-93.44 1592.43,-100.44\"/>\n<text text-anchor=\"middle\" x=\"1575\" y=\"-100.74\" font-family=\"Times,serif\" font-size=\"14.00\">0&#45;9</text>\n</g>\n<!-- q8&#45;&gt;q8 -->\n<g id=\"edge12\" class=\"edge\">\n<title>q8&#45;&gt;q8</title>\n<path fill=\"none\" stroke=\"black\" d=\"M1679.2,-192.07C1682.76,-204.02 1689.51,-211.88 1699.44,-211.88 1706.42,-211.88 1711.83,-208 1715.67,-201.54\"/>\n<polygon fill=\"black\" stroke=\"black\" points=\"1719,-202.65 1719.69,-192.07 1712.56,-199.91 1719,-202.65\"/>\n<text text-anchor=\"middle\" x=\"1699.44\" y=\"-215.68\" font-family=\"Times,serif\" font-size=\"14.00\">0&#45;9</text>\n</g>\n</g>\n</svg>\n",
            "text/plain": [
              "<graphviz.sources.Source at 0x78c31ee17760>"
            ]
          },
          "metadata": {},
          "execution_count": 76
        }
      ]
    },
    {
      "cell_type": "code",
      "source": [
        "from google.colab import files\n",
        "\n",
        "# Download NFA and DFA images\n",
        "files.download(\"NFA.png\")\n",
        "\n"
      ],
      "metadata": {
        "colab": {
          "base_uri": "https://localhost:8080/",
          "height": 17
        },
        "id": "WdvVaFQ-ahV2",
        "outputId": "e2d2b976-925f-4448-b499-fd09f3b17a6b"
      },
      "execution_count": 71,
      "outputs": [
        {
          "output_type": "display_data",
          "data": {
            "text/plain": [
              "<IPython.core.display.Javascript object>"
            ],
            "application/javascript": [
              "\n",
              "    async function download(id, filename, size) {\n",
              "      if (!google.colab.kernel.accessAllowed) {\n",
              "        return;\n",
              "      }\n",
              "      const div = document.createElement('div');\n",
              "      const label = document.createElement('label');\n",
              "      label.textContent = `Downloading \"${filename}\": `;\n",
              "      div.appendChild(label);\n",
              "      const progress = document.createElement('progress');\n",
              "      progress.max = size;\n",
              "      div.appendChild(progress);\n",
              "      document.body.appendChild(div);\n",
              "\n",
              "      const buffers = [];\n",
              "      let downloaded = 0;\n",
              "\n",
              "      const channel = await google.colab.kernel.comms.open(id);\n",
              "      // Send a message to notify the kernel that we're ready.\n",
              "      channel.send({})\n",
              "\n",
              "      for await (const message of channel.messages) {\n",
              "        // Send a message to notify the kernel that we're ready.\n",
              "        channel.send({})\n",
              "        if (message.buffers) {\n",
              "          for (const buffer of message.buffers) {\n",
              "            buffers.push(buffer);\n",
              "            downloaded += buffer.byteLength;\n",
              "            progress.value = downloaded;\n",
              "          }\n",
              "        }\n",
              "      }\n",
              "      const blob = new Blob(buffers, {type: 'application/binary'});\n",
              "      const a = document.createElement('a');\n",
              "      a.href = window.URL.createObjectURL(blob);\n",
              "      a.download = filename;\n",
              "      div.appendChild(a);\n",
              "      a.click();\n",
              "      div.remove();\n",
              "    }\n",
              "  "
            ]
          },
          "metadata": {}
        },
        {
          "output_type": "display_data",
          "data": {
            "text/plain": [
              "<IPython.core.display.Javascript object>"
            ],
            "application/javascript": [
              "download(\"download_edaa0660-43d1-4b03-9f9c-adcba06435ba\", \"NFA.png\", 92105)"
            ]
          },
          "metadata": {}
        }
      ]
    },
    {
      "cell_type": "code",
      "source": [
        "files.download(\"DFA.png\")"
      ],
      "metadata": {
        "colab": {
          "base_uri": "https://localhost:8080/",
          "height": 17
        },
        "id": "5iT0XmEeiDaI",
        "outputId": "c01a4b0f-577d-4c02-f7a3-f46b6a374ca4"
      },
      "execution_count": 77,
      "outputs": [
        {
          "output_type": "display_data",
          "data": {
            "text/plain": [
              "<IPython.core.display.Javascript object>"
            ],
            "application/javascript": [
              "\n",
              "    async function download(id, filename, size) {\n",
              "      if (!google.colab.kernel.accessAllowed) {\n",
              "        return;\n",
              "      }\n",
              "      const div = document.createElement('div');\n",
              "      const label = document.createElement('label');\n",
              "      label.textContent = `Downloading \"${filename}\": `;\n",
              "      div.appendChild(label);\n",
              "      const progress = document.createElement('progress');\n",
              "      progress.max = size;\n",
              "      div.appendChild(progress);\n",
              "      document.body.appendChild(div);\n",
              "\n",
              "      const buffers = [];\n",
              "      let downloaded = 0;\n",
              "\n",
              "      const channel = await google.colab.kernel.comms.open(id);\n",
              "      // Send a message to notify the kernel that we're ready.\n",
              "      channel.send({})\n",
              "\n",
              "      for await (const message of channel.messages) {\n",
              "        // Send a message to notify the kernel that we're ready.\n",
              "        channel.send({})\n",
              "        if (message.buffers) {\n",
              "          for (const buffer of message.buffers) {\n",
              "            buffers.push(buffer);\n",
              "            downloaded += buffer.byteLength;\n",
              "            progress.value = downloaded;\n",
              "          }\n",
              "        }\n",
              "      }\n",
              "      const blob = new Blob(buffers, {type: 'application/binary'});\n",
              "      const a = document.createElement('a');\n",
              "      a.href = window.URL.createObjectURL(blob);\n",
              "      a.download = filename;\n",
              "      div.appendChild(a);\n",
              "      a.click();\n",
              "      div.remove();\n",
              "    }\n",
              "  "
            ]
          },
          "metadata": {}
        },
        {
          "output_type": "display_data",
          "data": {
            "text/plain": [
              "<IPython.core.display.Javascript object>"
            ],
            "application/javascript": [
              "download(\"download_8db781cb-1691-468c-94de-1829c337d8cd\", \"DFA.png\", 112985)"
            ]
          },
          "metadata": {}
        }
      ]
    }
  ]
}